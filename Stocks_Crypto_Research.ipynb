{
  "nbformat": 4,
  "nbformat_minor": 0,
  "metadata": {
    "colab": {
      "provenance": [],
      "authorship_tag": "ABX9TyO2yIR4rLRszSvMacx9XU7O",
      "include_colab_link": true
    },
    "kernelspec": {
      "name": "python3",
      "display_name": "Python 3"
    },
    "language_info": {
      "name": "python"
    }
  },
  "cells": [
    {
      "cell_type": "markdown",
      "metadata": {
        "id": "view-in-github",
        "colab_type": "text"
      },
      "source": [
        "<a href=\"https://colab.research.google.com/github/Flychuban/Stocks-Crypto-Research/blob/main/Stocks_Crypto_Research.ipynb\" target=\"_parent\"><img src=\"https://colab.research.google.com/assets/colab-badge.svg\" alt=\"Open In Colab\"/></a>"
      ]
    },
    {
      "cell_type": "code",
      "execution_count": 1,
      "metadata": {
        "id": "Cm6lq8y3WZSy",
        "colab": {
          "base_uri": "https://localhost:8080/"
        },
        "outputId": "9f490724-d94b-4ce1-9273-db11d177c60b"
      },
      "outputs": [
        {
          "output_type": "stream",
          "name": "stdout",
          "text": [
            "Looking in indexes: https://pypi.org/simple, https://us-python.pkg.dev/colab-wheels/public/simple/\n",
            "Requirement already satisfied: transformers in /usr/local/lib/python3.10/dist-packages (4.29.2)\n",
            "Requirement already satisfied: filelock in /usr/local/lib/python3.10/dist-packages (from transformers) (3.12.0)\n",
            "Requirement already satisfied: huggingface-hub<1.0,>=0.14.1 in /usr/local/lib/python3.10/dist-packages (from transformers) (0.14.1)\n",
            "Requirement already satisfied: numpy>=1.17 in /usr/local/lib/python3.10/dist-packages (from transformers) (1.22.4)\n",
            "Requirement already satisfied: packaging>=20.0 in /usr/local/lib/python3.10/dist-packages (from transformers) (23.1)\n",
            "Requirement already satisfied: pyyaml>=5.1 in /usr/local/lib/python3.10/dist-packages (from transformers) (6.0)\n",
            "Requirement already satisfied: regex!=2019.12.17 in /usr/local/lib/python3.10/dist-packages (from transformers) (2022.10.31)\n",
            "Requirement already satisfied: requests in /usr/local/lib/python3.10/dist-packages (from transformers) (2.27.1)\n",
            "Requirement already satisfied: tokenizers!=0.11.3,<0.14,>=0.11.1 in /usr/local/lib/python3.10/dist-packages (from transformers) (0.13.3)\n",
            "Requirement already satisfied: tqdm>=4.27 in /usr/local/lib/python3.10/dist-packages (from transformers) (4.65.0)\n",
            "Requirement already satisfied: fsspec in /usr/local/lib/python3.10/dist-packages (from huggingface-hub<1.0,>=0.14.1->transformers) (2023.4.0)\n",
            "Requirement already satisfied: typing-extensions>=3.7.4.3 in /usr/local/lib/python3.10/dist-packages (from huggingface-hub<1.0,>=0.14.1->transformers) (4.5.0)\n",
            "Requirement already satisfied: urllib3<1.27,>=1.21.1 in /usr/local/lib/python3.10/dist-packages (from requests->transformers) (1.26.15)\n",
            "Requirement already satisfied: certifi>=2017.4.17 in /usr/local/lib/python3.10/dist-packages (from requests->transformers) (2022.12.7)\n",
            "Requirement already satisfied: charset-normalizer~=2.0.0 in /usr/local/lib/python3.10/dist-packages (from requests->transformers) (2.0.12)\n",
            "Requirement already satisfied: idna<4,>=2.5 in /usr/local/lib/python3.10/dist-packages (from requests->transformers) (3.4)\n",
            "Looking in indexes: https://pypi.org/simple, https://us-python.pkg.dev/colab-wheels/public/simple/\n",
            "Requirement already satisfied: sentencepiece in /usr/local/lib/python3.10/dist-packages (0.1.99)\n"
          ]
        }
      ],
      "source": [
        "!pip install transformers\n",
        "!pip install sentencepiece"
      ]
    },
    {
      "cell_type": "code",
      "source": [
        "from transformers import PegasusTokenizer, PegasusForConditionalGeneration\n",
        "from bs4 import BeautifulSoup\n",
        "import requests"
      ],
      "metadata": {
        "id": "v6wMgnNZWrJX"
      },
      "execution_count": 2,
      "outputs": []
    },
    {
      "cell_type": "code",
      "source": [
        "model_name = \"human-centered-summarization/financial-summarization-pegasus\"\n",
        "tokenizer = PegasusTokenizer.from_pretrained(model_name)\n",
        "model = PegasusForConditionalGeneration.from_pretrained(model_name) "
      ],
      "metadata": {
        "id": "PxUZnO42XRlo"
      },
      "execution_count": 3,
      "outputs": []
    },
    {
      "cell_type": "code",
      "source": [
        "url = \"https://uk.finance.yahoo.com/news/d-put-2-000-tesla-043029225.html\"\n",
        "r = requests.get(url)\n",
        "soup = BeautifulSoup(r.text, 'html.parser')\n",
        "paragraphs = soup.find_all('p')"
      ],
      "metadata": {
        "id": "HuGBokovYeKy"
      },
      "execution_count": 4,
      "outputs": []
    },
    {
      "cell_type": "code",
      "source": [
        "paragraphs"
      ],
      "metadata": {
        "id": "gIGAQh12clLr"
      },
      "execution_count": null,
      "outputs": []
    },
    {
      "cell_type": "code",
      "source": [
        "text = [paragraph.text for paragraph in paragraphs]\n",
        "words = ' '.join(text).split(' ')[:400]\n",
        "ARTICLE = ' '.join(words)"
      ],
      "metadata": {
        "id": "HZIz0aSycn1K"
      },
      "execution_count": 5,
      "outputs": []
    },
    {
      "cell_type": "code",
      "source": [
        "ARTICLE"
      ],
      "metadata": {
        "colab": {
          "base_uri": "https://localhost:8080/",
          "height": 123
        },
        "id": "3dMZi9rQI1rd",
        "outputId": "c1ad0f7b-c432-468f-928d-f640bb562d1a"
      },
      "execution_count": 6,
      "outputs": [
        {
          "output_type": "execute_result",
          "data": {
            "text/plain": [
              "'RCB’s owners have focused on Virat Kohli to leverage their commercial brand Both Tesla (NASDAQ: TSLA) and NIO (NYSE: NIO) stock declined by more than 50% in value in 2022. It was a dreadful year for most growth shares, including electric vehicle (EV) companies. But what if I’d taken a contrarian stance and decided to invest £1,000 in each of these fallen stocks as a New Year gift for myself? How much would I have today? Well, Tesla shares are up a very impressive 65% so far this year. In contrast, NIO shares have declined 17% since the end of December and now sit at just under $8 per share. This means that my Tesla holding would be worth £1,650, while the value of my position in its Chinese EV rival would have fallen to £830. So, my overall investment would be worth £2,480 today. That’s a gain of 24%, which is an exceptional return after just a few months. But what about the future? Should I buy either or both stocks today? There seem to be two big reasons why Tesla stock has come back into fashion this year. Firstly, the aggressive price cuts initiated by the company in the US and China late last year has stoked demand for its vehicles. That said, lower vehicle prices did hit Tesla’s profit margin hard in the first quarter. This could be a risk for the stock if margins continue declining. However, CEO Elon Musk has explained the strategy here: “It’s better to ship a large number of cars at a lower margin, and subsequently, harvest that margin in the future as we perfect autonomy“. This comment about autonomy relates to a second positive for Tesla stock. That is the explosion in investor interest in artificial intelligence (AI) following the release of ChatGPT in November. Many AI-related stocks have risen strongly since, which has benefitted Tesla, a global leader in the technology. More specifically, it has rolled out initial access to its full self-driving software in the US this year. Its vehicles have now driven 150m autonomous miles, which gives the company a vast data advantage over its competitors. Meanwhile, it’s a different narrative for NIO stock. The company remains deeply unprofitable in a market that has lost patience for mounting losses. It posted a net loss of $2.1bn last year, which represented an increase of 259% from 2021. Margins have'"
            ],
            "application/vnd.google.colaboratory.intrinsic+json": {
              "type": "string"
            }
          },
          "metadata": {},
          "execution_count": 6
        }
      ]
    },
    {
      "cell_type": "code",
      "source": [
        "input_ids = tokenizer.encode(ARTICLE, return_tensors = 'pt')\n",
        "output = model.generate(input_ids, max_length = 55, num_beams = 5, early_stopping = True)\n",
        "summary = tokenizer.decode(output[0], skip_special_tokens=True)"
      ],
      "metadata": {
        "id": "D01_I4FFI3Tl"
      },
      "execution_count": 7,
      "outputs": []
    },
    {
      "cell_type": "code",
      "source": [
        "summary"
      ],
      "metadata": {
        "colab": {
          "base_uri": "https://localhost:8080/",
          "height": 36
        },
        "id": "zwVyRNhnKu09",
        "outputId": "c37dd7ef-251b-4a2d-e11a-baacc9510da9"
      },
      "execution_count": 8,
      "outputs": [
        {
          "output_type": "execute_result",
          "data": {
            "text/plain": [
              "'Tesla stock is up 65% so far this year, while NIO shares are down 17%.'"
            ],
            "application/vnd.google.colaboratory.intrinsic+json": {
              "type": "string"
            }
          },
          "metadata": {},
          "execution_count": 8
        }
      ]
    },
    {
      "cell_type": "code",
      "source": [
        "monitored_tickers = ['GME', 'TSLA', 'BTC']"
      ],
      "metadata": {
        "id": "9Fjqm7fa2l3p"
      },
      "execution_count": 9,
      "outputs": []
    },
    {
      "cell_type": "code",
      "source": [
        "def search_stock_news_urls(ticker):\n",
        "  search_url = f'https://www.google.com/search?q=yahoo+finance+{ticker}&tbm=nws'\n",
        "  r = requests.get(search_url)\n",
        "  soup = BeautifulSoup(r.text, 'html.parser')\n",
        "  atags = soup.find_all('a')\n",
        "  hrefs = [link['href'] for link in atags]\n",
        "  return hrefs"
      ],
      "metadata": {
        "id": "QsEq_4V82399"
      },
      "execution_count": 10,
      "outputs": []
    },
    {
      "cell_type": "code",
      "source": [
        "search_stock_news_urls('TSLA')"
      ],
      "metadata": {
        "colab": {
          "base_uri": "https://localhost:8080/"
        },
        "id": "aVXJPYxGYS86",
        "outputId": "57dc0efc-dff2-4d35-e8cd-1673d1587516"
      },
      "execution_count": 11,
      "outputs": [
        {
          "output_type": "execute_result",
          "data": {
            "text/plain": [
              "['https://accounts.google.com/ServiceLogin?hl=nl&continue=https://www.google.com/search?q%3Dyahoo%2Bfinance%2BTSLA%26tbm%3Dnws&gae=cb-none',\n",
              " 'https://policies.google.com/technologies/cookies?hl=nl&utm_source=ucb',\n",
              " 'https://consent.google.com/dl?continue=https://www.google.com/search?q%3Dyahoo%2Bfinance%2BTSLA%26tbm%3Dnws&gl=NL&hl=nl&pc=srp&uxe=none&src=1',\n",
              " 'https://policies.google.com/privacy?hl=nl&utm_source=ucb',\n",
              " 'https://policies.google.com/terms?hl=nl&utm_source=ucb']"
            ]
          },
          "metadata": {},
          "execution_count": 11
        }
      ]
    },
    {
      "cell_type": "code",
      "source": [
        "raw_urls = {ticker: search_stock_news_urls(ticker) for ticker in monitored_tickers}"
      ],
      "metadata": {
        "id": "ii5v4GWQ6XSS"
      },
      "execution_count": 12,
      "outputs": []
    },
    {
      "cell_type": "code",
      "source": [
        "raw_urls"
      ],
      "metadata": {
        "id": "cmma2eNs6hY1",
        "colab": {
          "base_uri": "https://localhost:8080/"
        },
        "outputId": "f51b4d4e-515d-4922-e2ed-4fe45064be5b"
      },
      "execution_count": 13,
      "outputs": [
        {
          "output_type": "execute_result",
          "data": {
            "text/plain": [
              "{'GME': ['https://accounts.google.com/ServiceLogin?hl=nl&continue=https://www.google.com/search?q%3Dyahoo%2Bfinance%2BGME%26tbm%3Dnws&gae=cb-none',\n",
              "  'https://policies.google.com/technologies/cookies?hl=nl&utm_source=ucb',\n",
              "  'https://consent.google.com/dl?continue=https://www.google.com/search?q%3Dyahoo%2Bfinance%2BGME%26tbm%3Dnws&gl=NL&hl=nl&pc=srp&uxe=none&src=1',\n",
              "  'https://policies.google.com/privacy?hl=nl&utm_source=ucb',\n",
              "  'https://policies.google.com/terms?hl=nl&utm_source=ucb'],\n",
              " 'TSLA': ['https://accounts.google.com/ServiceLogin?hl=nl&continue=https://www.google.com/search?q%3Dyahoo%2Bfinance%2BTSLA%26tbm%3Dnws&gae=cb-none',\n",
              "  'https://policies.google.com/technologies/cookies?hl=nl&utm_source=ucb',\n",
              "  'https://consent.google.com/dl?continue=https://www.google.com/search?q%3Dyahoo%2Bfinance%2BTSLA%26tbm%3Dnws&gl=NL&hl=nl&pc=srp&uxe=none&src=1',\n",
              "  'https://policies.google.com/privacy?hl=nl&utm_source=ucb',\n",
              "  'https://policies.google.com/terms?hl=nl&utm_source=ucb'],\n",
              " 'BTC': ['https://accounts.google.com/ServiceLogin?hl=nl&continue=https://www.google.com/search?q%3Dyahoo%2Bfinance%2BBTC%26tbm%3Dnws&gae=cb-none',\n",
              "  'https://policies.google.com/technologies/cookies?hl=nl&utm_source=ucb',\n",
              "  'https://consent.google.com/dl?continue=https://www.google.com/search?q%3Dyahoo%2Bfinance%2BBTC%26tbm%3Dnws&gl=NL&hl=nl&pc=srp&uxe=none&src=1',\n",
              "  'https://policies.google.com/privacy?hl=nl&utm_source=ucb',\n",
              "  'https://policies.google.com/terms?hl=nl&utm_source=ucb']}"
            ]
          },
          "metadata": {},
          "execution_count": 13
        }
      ]
    },
    {
      "cell_type": "code",
      "source": [
        "import re"
      ],
      "metadata": {
        "id": "UmWU3D5e7-Cr"
      },
      "execution_count": 14,
      "outputs": []
    },
    {
      "cell_type": "code",
      "source": [
        "exclude_list = ['maps', 'policies', 'preferences', 'accounts', 'support']"
      ],
      "metadata": {
        "id": "qspHRbDW7_zI"
      },
      "execution_count": 15,
      "outputs": []
    },
    {
      "cell_type": "code",
      "source": [
        "def strip_unwanted_urls(urls, exclude_list):\n",
        "    val = []\n",
        "    for url in urls: \n",
        "        if 'https://' in url and not any(exclude_word in url for exclude_word in exclude_list):\n",
        "            res = re.findall(r'(https?://\\S+)', url)[0].split('&')[0]\n",
        "            val.append(res)\n",
        "    return list(set(val))"
      ],
      "metadata": {
        "id": "wEHnjozs8Dg7"
      },
      "execution_count": 16,
      "outputs": []
    },
    {
      "cell_type": "code",
      "source": [
        "cleaned_urls = {ticker:strip_unwanted_urls(raw_urls[ticker], exclude_list) for ticker in monitored_tickers}\n",
        "cleaned_urls"
      ],
      "metadata": {
        "colab": {
          "base_uri": "https://localhost:8080/"
        },
        "id": "Q6QyM8dr9PEp",
        "outputId": "4ff63e41-e70d-4407-9498-c43d0fa61029"
      },
      "execution_count": 17,
      "outputs": [
        {
          "output_type": "execute_result",
          "data": {
            "text/plain": [
              "{'GME': ['https://consent.google.com/dl?continue=https://www.google.com/search?q%3Dyahoo%2Bfinance%2BGME%26tbm%3Dnws'],\n",
              " 'TSLA': ['https://consent.google.com/dl?continue=https://www.google.com/search?q%3Dyahoo%2Bfinance%2BTSLA%26tbm%3Dnws'],\n",
              " 'BTC': ['https://consent.google.com/dl?continue=https://www.google.com/search?q%3Dyahoo%2Bfinance%2BBTC%26tbm%3Dnws']}"
            ]
          },
          "metadata": {},
          "execution_count": 17
        }
      ]
    },
    {
      "cell_type": "code",
      "source": [
        "def scrape_and_process(URLs):\n",
        "  ARTICLES = []\n",
        "  for url in URLs:\n",
        "    r = requests.get(url)\n",
        "    soup = BeautifulSoup(r.text, 'html.parser')\n",
        "    paragraphs = soup.find_all('p')\n",
        "    text = [paragraph.text for paragraph in paragraphs]\n",
        "    words = ' '.join(text).split(' ')[:350]\n",
        "    ARTICLE = ' '.join(words)\n",
        "    ARTICLES.append(ARTICLE)\n",
        "  return ARTICLES"
      ],
      "metadata": {
        "id": "-I26rTx0-LCi"
      },
      "execution_count": 20,
      "outputs": []
    },
    {
      "cell_type": "code",
      "source": [
        "articles = {ticker: scrape_and_process(cleaned_urls[ticker]) for ticker in monitored_tickers}\n",
        "articles"
      ],
      "metadata": {
        "id": "33nE23H6Arku",
        "colab": {
          "base_uri": "https://localhost:8080/"
        },
        "outputId": "d5529675-d6d7-4391-9d87-30734168eb1c"
      },
      "execution_count": 21,
      "outputs": [
        {
          "output_type": "execute_result",
          "data": {
            "text/plain": [
              "{'GME': ['400. That’s an error.The server cannot process the request because it is malformed. It should not be retried. That’s all we know. The server cannot process the request because it is malformed. It should not be retried. That’s all we know.'],\n",
              " 'TSLA': ['400. That’s an error.The server cannot process the request because it is malformed. It should not be retried. That’s all we know. The server cannot process the request because it is malformed. It should not be retried. That’s all we know.'],\n",
              " 'BTC': ['400. That’s an error.The server cannot process the request because it is malformed. It should not be retried. That’s all we know. The server cannot process the request because it is malformed. It should not be retried. That’s all we know.']}"
            ]
          },
          "metadata": {},
          "execution_count": 21
        }
      ]
    },
    {
      "cell_type": "code",
      "source": [
        "def summarize(articles):\n",
        "  summaries = []\n",
        "  for article in articles:\n",
        "    input_ids = tokenizer.encode(article, return_tensors = 'pt')\n",
        "    output = model.generate(input_ids, max_length = 55, num_beams = 5, early_stopping = True)\n",
        "    summary = tokenizer.decode(output[0], skip_special_tokens=True)\n",
        "    summaries.append(summary)\n",
        "  return summaries"
      ],
      "metadata": {
        "id": "4AN8iyGcA8uV"
      },
      "execution_count": 19,
      "outputs": []
    },
    {
      "cell_type": "code",
      "source": [
        "summaries = {ticker: summarize(articles[ticker]) for ticker in monitored_tickers}\n",
        "summaries"
      ],
      "metadata": {
        "colab": {
          "base_uri": "https://localhost:8080/"
        },
        "id": "4uDX77T-dcJe",
        "outputId": "187de702-c395-4074-f10e-6fdb717f30ad"
      },
      "execution_count": 22,
      "outputs": [
        {
          "output_type": "execute_result",
          "data": {
            "text/plain": [
              "{'GME': ['It’s an error that’s hard to diagnose because it’s a malformed request.'],\n",
              " 'TSLA': ['It’s an error that’s hard to diagnose because it’s a malformed request.'],\n",
              " 'BTC': ['It’s an error that’s hard to diagnose because it’s a malformed request.']}"
            ]
          },
          "metadata": {},
          "execution_count": 22
        }
      ]
    }
  ]
}