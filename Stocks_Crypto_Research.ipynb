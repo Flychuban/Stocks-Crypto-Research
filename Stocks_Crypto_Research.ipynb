{
  "nbformat": 4,
  "nbformat_minor": 0,
  "metadata": {
    "colab": {
      "provenance": [],
      "authorship_tag": "ABX9TyNjCkl+Rl/vRsnobCH4jIkZ",
      "include_colab_link": true
    },
    "kernelspec": {
      "name": "python3",
      "display_name": "Python 3"
    },
    "language_info": {
      "name": "python"
    }
  },
  "cells": [
    {
      "cell_type": "markdown",
      "metadata": {
        "id": "view-in-github",
        "colab_type": "text"
      },
      "source": [
        "<a href=\"https://colab.research.google.com/github/Flychuban/Stocks-Crypto-Research/blob/main/Stocks_Crypto_Research.ipynb\" target=\"_parent\"><img src=\"https://colab.research.google.com/assets/colab-badge.svg\" alt=\"Open In Colab\"/></a>"
      ]
    },
    {
      "cell_type": "code",
      "execution_count": null,
      "metadata": {
        "id": "Cm6lq8y3WZSy"
      },
      "outputs": [],
      "source": [
        "!pip install transformers\n",
        "!pip install sentencepiece"
      ]
    },
    {
      "cell_type": "code",
      "source": [
        "from transformers import PegasusTokenizer, PegasusForConditionalGeneration\n",
        "from bs4 import BeautifulSoup\n",
        "import requests"
      ],
      "metadata": {
        "id": "v6wMgnNZWrJX"
      },
      "execution_count": 2,
      "outputs": []
    },
    {
      "cell_type": "code",
      "source": [
        "model_name = \"human-centered-summarization/financial-summarization-pegasus\"\n",
        "tokenizer = PegasusTokenizer.from_pretrained(model_name)\n",
        "model = PegasusForConditionalGeneration.from_pretrained(model_name) "
      ],
      "metadata": {
        "id": "PxUZnO42XRlo"
      },
      "execution_count": 3,
      "outputs": []
    },
    {
      "cell_type": "code",
      "source": [
        "url = \"https://uk.finance.yahoo.com/news/d-put-2-000-tesla-043029225.html\"\n",
        "r = requests.get(url)\n",
        "soup = BeautifulSoup(r.text, 'html.parser')\n",
        "paragraphs = soup.find_all('p')"
      ],
      "metadata": {
        "id": "HuGBokovYeKy"
      },
      "execution_count": null,
      "outputs": []
    },
    {
      "cell_type": "code",
      "source": [
        "paragraphs"
      ],
      "metadata": {
        "id": "gIGAQh12clLr"
      },
      "execution_count": null,
      "outputs": []
    },
    {
      "cell_type": "code",
      "source": [
        "text = [paragraph.text for paragraph in paragraphs]\n",
        "words = ' '.join(text).split(' ')[:400]\n",
        "ARTICLE = ' '.join(words)"
      ],
      "metadata": {
        "id": "HZIz0aSycn1K"
      },
      "execution_count": null,
      "outputs": []
    },
    {
      "cell_type": "code",
      "source": [
        "ARTICLE"
      ],
      "metadata": {
        "colab": {
          "base_uri": "https://localhost:8080/",
          "height": 123
        },
        "id": "3dMZi9rQI1rd",
        "outputId": "c1ad0f7b-c432-468f-928d-f640bb562d1a"
      },
      "execution_count": null,
      "outputs": [
        {
          "output_type": "execute_result",
          "data": {
            "text/plain": [
              "'RCB’s owners have focused on Virat Kohli to leverage their commercial brand Both Tesla (NASDAQ: TSLA) and NIO (NYSE: NIO) stock declined by more than 50% in value in 2022. It was a dreadful year for most growth shares, including electric vehicle (EV) companies. But what if I’d taken a contrarian stance and decided to invest £1,000 in each of these fallen stocks as a New Year gift for myself? How much would I have today? Well, Tesla shares are up a very impressive 65% so far this year. In contrast, NIO shares have declined 17% since the end of December and now sit at just under $8 per share. This means that my Tesla holding would be worth £1,650, while the value of my position in its Chinese EV rival would have fallen to £830. So, my overall investment would be worth £2,480 today. That’s a gain of 24%, which is an exceptional return after just a few months. But what about the future? Should I buy either or both stocks today? There seem to be two big reasons why Tesla stock has come back into fashion this year. Firstly, the aggressive price cuts initiated by the company in the US and China late last year has stoked demand for its vehicles. That said, lower vehicle prices did hit Tesla’s profit margin hard in the first quarter. This could be a risk for the stock if margins continue declining. However, CEO Elon Musk has explained the strategy here: “It’s better to ship a large number of cars at a lower margin, and subsequently, harvest that margin in the future as we perfect autonomy“. This comment about autonomy relates to a second positive for Tesla stock. That is the explosion in investor interest in artificial intelligence (AI) following the release of ChatGPT in November. Many AI-related stocks have risen strongly since, which has benefitted Tesla, a global leader in the technology. More specifically, it has rolled out initial access to its full self-driving software in the US this year. Its vehicles have now driven 150m autonomous miles, which gives the company a vast data advantage over its competitors. Meanwhile, it’s a different narrative for NIO stock. The company remains deeply unprofitable in a market that has lost patience for mounting losses. It posted a net loss of $2.1bn last year, which represented an increase of 259% from 2021. Margins have'"
            ],
            "application/vnd.google.colaboratory.intrinsic+json": {
              "type": "string"
            }
          },
          "metadata": {},
          "execution_count": 6
        }
      ]
    },
    {
      "cell_type": "code",
      "source": [
        "input_ids = tokenizer.encode(ARTICLE, return_tensors = 'pt')\n",
        "output = model.generate(input_ids, max_length = 55, num_beams = 5, early_stopping = True)\n",
        "summary = tokenizer.decode(output[0], skip_special_tokens=True)"
      ],
      "metadata": {
        "id": "D01_I4FFI3Tl"
      },
      "execution_count": null,
      "outputs": []
    },
    {
      "cell_type": "code",
      "source": [
        "summary"
      ],
      "metadata": {
        "colab": {
          "base_uri": "https://localhost:8080/",
          "height": 36
        },
        "id": "zwVyRNhnKu09",
        "outputId": "c37dd7ef-251b-4a2d-e11a-baacc9510da9"
      },
      "execution_count": null,
      "outputs": [
        {
          "output_type": "execute_result",
          "data": {
            "text/plain": [
              "'Tesla stock is up 65% so far this year, while NIO shares are down 17%.'"
            ],
            "application/vnd.google.colaboratory.intrinsic+json": {
              "type": "string"
            }
          },
          "metadata": {},
          "execution_count": 8
        }
      ]
    },
    {
      "cell_type": "code",
      "source": [
        "monitored_tickers = ['TMUS', 'RCL', 'ETH']"
      ],
      "metadata": {
        "id": "9Fjqm7fa2l3p"
      },
      "execution_count": 4,
      "outputs": []
    },
    {
      "cell_type": "code",
      "source": [
        "def search_stock_news_urls(ticker):\n",
        "  search_url = f'https://www.google.com/search?q=yahoo+finance+{ticker}&tbm=nws'\n",
        "  r = requests.get(search_url)\n",
        "  soup = BeautifulSoup(r.text, 'html.parser')\n",
        "  atags = soup.find_all('a')\n",
        "  hrefs = [link['href'] for link in atags]\n",
        "  return hrefs"
      ],
      "metadata": {
        "id": "QsEq_4V82399"
      },
      "execution_count": 5,
      "outputs": []
    },
    {
      "cell_type": "code",
      "source": [
        "raw_urls = {ticker: search_stock_news_urls(ticker) for ticker in monitored_tickers}"
      ],
      "metadata": {
        "id": "ii5v4GWQ6XSS"
      },
      "execution_count": 6,
      "outputs": []
    },
    {
      "cell_type": "code",
      "source": [
        "raw_urls"
      ],
      "metadata": {
        "id": "cmma2eNs6hY1"
      },
      "execution_count": null,
      "outputs": []
    },
    {
      "cell_type": "code",
      "source": [
        "import re"
      ],
      "metadata": {
        "id": "UmWU3D5e7-Cr"
      },
      "execution_count": 8,
      "outputs": []
    },
    {
      "cell_type": "code",
      "source": [
        "exclude_list = ['maps', 'policies', 'preferences', 'accounts', 'support']"
      ],
      "metadata": {
        "id": "qspHRbDW7_zI"
      },
      "execution_count": 9,
      "outputs": []
    },
    {
      "cell_type": "code",
      "source": [
        "def strip_unwanted_urls(urls, exclude_list):\n",
        "    val = []\n",
        "    for url in urls: \n",
        "        if 'https://' in url and not any(exclude_word in url for exclude_word in exclude_list):\n",
        "            res = re.findall(r'(https?://\\S+)', url)[0].split('&')[0]\n",
        "            val.append(res)\n",
        "    return list(set(val))"
      ],
      "metadata": {
        "id": "wEHnjozs8Dg7"
      },
      "execution_count": 10,
      "outputs": []
    },
    {
      "cell_type": "code",
      "source": [
        "cleaned_urls = {ticker:strip_unwanted_urls(raw_urls[ticker], exclude_list) for ticker in monitored_tickers}\n",
        "cleaned_urls"
      ],
      "metadata": {
        "id": "Q6QyM8dr9PEp"
      },
      "execution_count": null,
      "outputs": []
    },
    {
      "cell_type": "code",
      "source": [
        "def scrape_and_process(URLs):\n",
        "  ARTICLES = []\n",
        "  for url in URLs:\n",
        "    r = requests.get(url)\n",
        "    soup = BeautifulSoup(r.text, 'html.parser')\n",
        "    paragraphs = soup.find_all('p')\n",
        "    text = [paragraph.text for paragraph in paragraphs]\n",
        "    words = ' '.join(text).split(' ')[:350]\n",
        "    ARTICLE = ' '.join(words)\n",
        "    ARTICLES.append(ARTICLE)\n",
        "  return ARTICLES"
      ],
      "metadata": {
        "id": "-I26rTx0-LCi"
      },
      "execution_count": 12,
      "outputs": []
    },
    {
      "cell_type": "code",
      "source": [
        "articles = {ticker: scrape_and_process(cleaned_urls[ticker]) for ticker in monitored_tickers}\n",
        "articles"
      ],
      "metadata": {
        "id": "33nE23H6Arku"
      },
      "execution_count": null,
      "outputs": []
    },
    {
      "cell_type": "code",
      "source": [
        "def summarize(articles):\n",
        "  summaries = []\n",
        "  for article in articles:\n",
        "    input_ids = tokenizer.encode(article, return_tensors = 'pt')\n",
        "    output = model.generate(input_ids, max_length = 55, num_beams = 5, early_stopping = True)\n",
        "    summary = tokenizer.decode(output[0], skip_special_tokens=True)\n",
        "    summaries.append(summary)\n",
        "  return summaries"
      ],
      "metadata": {
        "id": "4AN8iyGcA8uV"
      },
      "execution_count": 14,
      "outputs": []
    },
    {
      "cell_type": "code",
      "source": [
        "summaries = {ticker: summarize(articles[ticker]) for ticker in monitored_tickers}\n",
        "summaries"
      ],
      "metadata": {
        "id": "4uDX77T-dcJe"
      },
      "execution_count": null,
      "outputs": []
    },
    {
      "cell_type": "code",
      "source": [
        "from transformers import AutoTokenizer, AutoModelForSequenceClassification\n",
        "import torch"
      ],
      "metadata": {
        "id": "73KuBI0Kpe2n"
      },
      "execution_count": 16,
      "outputs": []
    },
    {
      "cell_type": "code",
      "source": [
        "MODEL_NAME = 'RashidNLP/Finance_Multi_Sentiment'\n",
        "device = torch.device('cuda' if torch.cuda.is_available() else 'cpu')\n",
        "\n",
        "bert_model = AutoModelForSequenceClassification.from_pretrained(MODEL_NAME, num_labels = 3).to(device)\n",
        "tokenizer = AutoTokenizer.from_pretrained(MODEL_NAME)"
      ],
      "metadata": {
        "id": "xIGblqqq0ZKx"
      },
      "execution_count": 17,
      "outputs": []
    },
    {
      "cell_type": "code",
      "source": [
        "def get_sentiment(sentences):\n",
        "    bert_dict = {}\n",
        "    vectors = tokenizer(sentences, padding = True, max_length = 65, return_tensors='pt').to(device)\n",
        "    outputs = bert_model(**vectors).logits\n",
        "    probs = torch.nn.functional.softmax(outputs, dim = 1)\n",
        "    for prob in probs:\n",
        "        bert_dict['neg'] = round(prob[0].item(), 3)\n",
        "        bert_dict['neu'] = round(prob[1].item(), 3)\n",
        "        bert_dict['pos'] = round(prob[2].item(), 3)\n",
        "        print (bert_dict)"
      ],
      "metadata": {
        "id": "2xv8wZrusIwg"
      },
      "execution_count": 18,
      "outputs": []
    },
    {
      "cell_type": "code",
      "source": [
        "scores = {ticker: get_sentiment(summaries[ticker]) for ticker in monitored_tickers}\n",
        "scores"
      ],
      "metadata": {
        "colab": {
          "base_uri": "https://localhost:8080/"
        },
        "id": "dZWVho22wKlb",
        "outputId": "c4ef1730-fb17-4767-c57c-2d5428e43774"
      },
      "execution_count": 19,
      "outputs": [
        {
          "output_type": "stream",
          "name": "stderr",
          "text": [
            "/usr/local/lib/python3.10/dist-packages/transformers/tokenization_utils_base.py:2382: UserWarning: `max_length` is ignored when `padding`=`True` and there is no truncation strategy. To pad to max length, use `padding='max_length'`.\n",
            "  warnings.warn(\n"
          ]
        },
        {
          "output_type": "stream",
          "name": "stdout",
          "text": [
            "{'neg': 0.737, 'neu': 0.207, 'pos': 0.056}\n",
            "{'neg': 0.0, 'neu': 0.001, 'pos': 0.998}\n",
            "{'neg': 0.082, 'neu': 0.037, 'pos': 0.881}\n",
            "{'neg': 0.001, 'neu': 0.187, 'pos': 0.812}\n",
            "{'neg': 0.005, 'neu': 0.919, 'pos': 0.076}\n",
            "{'neg': 0.0, 'neu': 0.0, 'pos': 1.0}\n",
            "{'neg': 0.006, 'neu': 0.256, 'pos': 0.738}\n",
            "{'neg': 0.0, 'neu': 0.0, 'pos': 1.0}\n",
            "{'neg': 0.005, 'neu': 0.919, 'pos': 0.076}\n",
            "{'neg': 0.004, 'neu': 0.002, 'pos': 0.994}\n",
            "{'neg': 0.0, 'neu': 0.002, 'pos': 0.998}\n",
            "{'neg': 0.0, 'neu': 0.001, 'pos': 0.999}\n",
            "{'neg': 0.0, 'neu': 0.0, 'pos': 1.0}\n",
            "{'neg': 0.005, 'neu': 0.919, 'pos': 0.076}\n",
            "{'neg': 0.0, 'neu': 0.006, 'pos': 0.994}\n",
            "{'neg': 0.0, 'neu': 0.003, 'pos': 0.997}\n",
            "{'neg': 0.0, 'neu': 0.003, 'pos': 0.997}\n",
            "{'neg': 0.0, 'neu': 0.006, 'pos': 0.994}\n",
            "{'neg': 0.005, 'neu': 0.919, 'pos': 0.076}\n",
            "{'neg': 0.006, 'neu': 0.256, 'pos': 0.738}\n",
            "{'neg': 0.005, 'neu': 0.919, 'pos': 0.076}\n",
            "{'neg': 0.0, 'neu': 0.001, 'pos': 0.999}\n",
            "{'neg': 0.001, 'neu': 0.03, 'pos': 0.969}\n",
            "{'neg': 0.99, 'neu': 0.01, 'pos': 0.0}\n",
            "{'neg': 0.0, 'neu': 0.002, 'pos': 0.997}\n",
            "{'neg': 0.006, 'neu': 0.256, 'pos': 0.738}\n",
            "{'neg': 0.073, 'neu': 0.643, 'pos': 0.283}\n",
            "{'neg': 0.0, 'neu': 0.0, 'pos': 1.0}\n",
            "{'neg': 0.247, 'neu': 0.445, 'pos': 0.308}\n",
            "{'neg': 0.0, 'neu': 0.001, 'pos': 0.998}\n",
            "{'neg': 0.09, 'neu': 0.036, 'pos': 0.874}\n",
            "{'neg': 0.0, 'neu': 0.0, 'pos': 1.0}\n",
            "{'neg': 0.0, 'neu': 0.006, 'pos': 0.994}\n"
          ]
        },
        {
          "output_type": "execute_result",
          "data": {
            "text/plain": [
              "{'TMUS': None, 'RCL': None, 'ETH': None}"
            ]
          },
          "metadata": {},
          "execution_count": 19
        }
      ]
    }
  ]
}